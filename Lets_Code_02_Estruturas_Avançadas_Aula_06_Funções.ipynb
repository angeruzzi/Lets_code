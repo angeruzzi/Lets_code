{
  "nbformat": 4,
  "nbformat_minor": 0,
  "metadata": {
    "colab": {
      "provenance": [],
      "authorship_tag": "ABX9TyM3jJ2aFZMRLY75KQDPT0sl",
      "include_colab_link": true
    },
    "kernelspec": {
      "name": "python3",
      "display_name": "Python 3"
    },
    "language_info": {
      "name": "python"
    }
  },
  "cells": [
    {
      "cell_type": "markdown",
      "metadata": {
        "id": "view-in-github",
        "colab_type": "text"
      },
      "source": [
        "<a href=\"https://colab.research.google.com/github/angeruzzi/Lets_code/blob/main/Lets_Code_02_Estruturas_Avan%C3%A7adas_Aula_06_Fun%C3%A7%C3%B5es.ipynb\" target=\"_parent\"><img src=\"https://colab.research.google.com/assets/colab-badge.svg\" alt=\"Open In Colab\"/></a>"
      ]
    },
    {
      "cell_type": "markdown",
      "source": [
        "#Funções"
      ],
      "metadata": {
        "id": "7_3Y4nIhcXD2"
      }
    },
    {
      "cell_type": "code",
      "execution_count": 2,
      "metadata": {
        "id": "HkWowyNscTV9"
      },
      "outputs": [],
      "source": [
        "def hello():\n",
        "  print(\"Hello World\")"
      ]
    },
    {
      "cell_type": "code",
      "source": [
        "hello()"
      ],
      "metadata": {
        "colab": {
          "base_uri": "https://localhost:8080/"
        },
        "id": "86oIqUdBcrvL",
        "outputId": "a3c99969-ff67-4f23-d58d-d8c0a02e4061"
      },
      "execution_count": 3,
      "outputs": [
        {
          "output_type": "stream",
          "name": "stdout",
          "text": [
            "Hello World\n"
          ]
        }
      ]
    },
    {
      "cell_type": "code",
      "source": [
        "def calcula_media(valor1, valor2, valor3):\n",
        "  soma = valor1 + valor2 + valor3\n",
        "  media = soma / 3\n",
        "  return media"
      ],
      "metadata": {
        "id": "z10tUL0Dcxuf"
      },
      "execution_count": 5,
      "outputs": []
    },
    {
      "cell_type": "code",
      "source": [
        "resultado = calcula_media(9, 10, 8)\n",
        "print(resultado)"
      ],
      "metadata": {
        "colab": {
          "base_uri": "https://localhost:8080/"
        },
        "id": "pZL9Ryopc_xA",
        "outputId": "08495597-0326-4c77-e278-f2cc20fdae1c"
      },
      "execution_count": 6,
      "outputs": [
        {
          "output_type": "stream",
          "name": "stdout",
          "text": [
            "9.0\n"
          ]
        }
      ]
    },
    {
      "cell_type": "code",
      "source": [
        "resultado2 = calcula_media(valor1=9, valor2=10, valor3=9)\n",
        "print(resultado2)"
      ],
      "metadata": {
        "colab": {
          "base_uri": "https://localhost:8080/"
        },
        "id": "H51Y_tKxdTnh",
        "outputId": "d115aae7-cc7a-4883-bbf3-3116a55c1f9c"
      },
      "execution_count": 8,
      "outputs": [
        {
          "output_type": "stream",
          "name": "stdout",
          "text": [
            "9.333333333333334\n"
          ]
        }
      ]
    },
    {
      "cell_type": "code",
      "source": [
        "print('Olá', end ='')\n",
        "print(', Pietro')"
      ],
      "metadata": {
        "colab": {
          "base_uri": "https://localhost:8080/"
        },
        "id": "KOd_iNHSdcqu",
        "outputId": "a7b8a91b-6a82-4534-9162-d8ed4609b212"
      },
      "execution_count": 9,
      "outputs": [
        {
          "output_type": "stream",
          "name": "stdout",
          "text": [
            "Olá, Pietro\n"
          ]
        }
      ]
    },
    {
      "cell_type": "code",
      "source": [
        "def calcula_media(valor1=0, valor2=0, valor3=0):\n",
        "  soma = valor1 + valor2 + valor3\n",
        "  media = soma / 3\n",
        "  return media"
      ],
      "metadata": {
        "id": "JU6ftruzdocQ"
      },
      "execution_count": 10,
      "outputs": []
    },
    {
      "cell_type": "code",
      "source": [
        "resultado = calcula_media()\n",
        "print(resultado)"
      ],
      "metadata": {
        "colab": {
          "base_uri": "https://localhost:8080/"
        },
        "id": "zioPq09EduiQ",
        "outputId": "5a910711-1395-4505-bb52-b53d1f1c5761"
      },
      "execution_count": 11,
      "outputs": [
        {
          "output_type": "stream",
          "name": "stdout",
          "text": [
            "0.0\n"
          ]
        }
      ]
    },
    {
      "cell_type": "code",
      "source": [],
      "metadata": {
        "id": "wcOR1lStdyzt"
      },
      "execution_count": null,
      "outputs": []
    }
  ]
}