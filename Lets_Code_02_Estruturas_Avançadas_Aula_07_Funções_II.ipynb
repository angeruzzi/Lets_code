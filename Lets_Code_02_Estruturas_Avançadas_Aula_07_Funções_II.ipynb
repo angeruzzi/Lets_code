{
  "nbformat": 4,
  "nbformat_minor": 0,
  "metadata": {
    "colab": {
      "provenance": [],
      "authorship_tag": "ABX9TyPjSI2V10l1ettF28uJeJFb",
      "include_colab_link": true
    },
    "kernelspec": {
      "name": "python3",
      "display_name": "Python 3"
    },
    "language_info": {
      "name": "python"
    }
  },
  "cells": [
    {
      "cell_type": "markdown",
      "metadata": {
        "id": "view-in-github",
        "colab_type": "text"
      },
      "source": [
        "<a href=\"https://colab.research.google.com/github/angeruzzi/Lets_code/blob/main/Lets_Code_02_Estruturas_Avan%C3%A7adas_Aula_07_Fun%C3%A7%C3%B5es_II.ipynb\" target=\"_parent\"><img src=\"https://colab.research.google.com/assets/colab-badge.svg\" alt=\"Open In Colab\"/></a>"
      ]
    },
    {
      "cell_type": "code",
      "execution_count": 1,
      "metadata": {
        "id": "124kNRyKd62C"
      },
      "outputs": [],
      "source": [
        "def calcula_media(valor1=0, valor2=0, valor3=0):\n",
        "  soma = valor1 + valor2 + valor3\n",
        "  media = soma / 3\n",
        "  return media"
      ]
    },
    {
      "cell_type": "code",
      "source": [
        "def calcula_media(*args):\n",
        "  print(args, type(args))\n"
      ],
      "metadata": {
        "id": "IcNhoCDXeNaC"
      },
      "execution_count": 2,
      "outputs": []
    },
    {
      "cell_type": "code",
      "source": [
        "calcula_media(9,10,8)"
      ],
      "metadata": {
        "colab": {
          "base_uri": "https://localhost:8080/"
        },
        "id": "RGY9qIJ9eTwK",
        "outputId": "1e1457a7-0d78-4d00-d636-f7c4464ec86e"
      },
      "execution_count": 3,
      "outputs": [
        {
          "output_type": "stream",
          "name": "stdout",
          "text": [
            "(9, 10, 8) <class 'tuple'>\n"
          ]
        }
      ]
    },
    {
      "cell_type": "code",
      "source": [
        "def calcula_media(*args):\n",
        "  soma = sum(args)\n",
        "  media = soma / len(args)\n",
        "  return media"
      ],
      "metadata": {
        "id": "8L7hHI6qeV0c"
      },
      "execution_count": 4,
      "outputs": []
    },
    {
      "cell_type": "code",
      "source": [
        "calcula_media(9,10,8)"
      ],
      "metadata": {
        "colab": {
          "base_uri": "https://localhost:8080/"
        },
        "id": "AWK9cpFkeei1",
        "outputId": "4a4b51f7-c6b1-40f0-90b0-8d29a9f690fa"
      },
      "execution_count": 5,
      "outputs": [
        {
          "output_type": "execute_result",
          "data": {
            "text/plain": [
              "9.0"
            ]
          },
          "metadata": {},
          "execution_count": 5
        }
      ]
    },
    {
      "cell_type": "code",
      "source": [
        "def calcula_media(*args, margem):\n",
        "  soma = sum(args)\n",
        "  media = soma / len(args)\n",
        "  return media + margem"
      ],
      "metadata": {
        "id": "FOCDTsc2ehs1"
      },
      "execution_count": 6,
      "outputs": []
    },
    {
      "cell_type": "code",
      "source": [
        "calcula_media(9, 10, 8, 3)"
      ],
      "metadata": {
        "colab": {
          "base_uri": "https://localhost:8080/",
          "height": 165
        },
        "id": "b56mb9ARemgI",
        "outputId": "abaef2b7-53f0-4a50-9bb6-217178108a77"
      },
      "execution_count": 8,
      "outputs": [
        {
          "output_type": "error",
          "ename": "TypeError",
          "evalue": "ignored",
          "traceback": [
            "\u001b[0;31m---------------------------------------------------------------------------\u001b[0m",
            "\u001b[0;31mTypeError\u001b[0m                                 Traceback (most recent call last)",
            "\u001b[0;32m<ipython-input-8-19c7bf8420b5>\u001b[0m in \u001b[0;36m<module>\u001b[0;34m\u001b[0m\n\u001b[0;32m----> 1\u001b[0;31m \u001b[0mcalcula_media\u001b[0m\u001b[0;34m(\u001b[0m\u001b[0;36m9\u001b[0m\u001b[0;34m,\u001b[0m \u001b[0;36m10\u001b[0m\u001b[0;34m,\u001b[0m \u001b[0;36m8\u001b[0m\u001b[0;34m,\u001b[0m \u001b[0;36m3\u001b[0m\u001b[0;34m)\u001b[0m\u001b[0;34m\u001b[0m\u001b[0;34m\u001b[0m\u001b[0m\n\u001b[0m",
            "\u001b[0;31mTypeError\u001b[0m: calcula_media() missing 1 required keyword-only argument: 'margem'"
          ]
        }
      ]
    },
    {
      "cell_type": "code",
      "source": [
        "calcula_media(9,10,8, margem=3)"
      ],
      "metadata": {
        "colab": {
          "base_uri": "https://localhost:8080/"
        },
        "id": "JlUIV_wdep4V",
        "outputId": "3e8df57a-c167-4055-bc85-9275d9283a5d"
      },
      "execution_count": 9,
      "outputs": [
        {
          "output_type": "execute_result",
          "data": {
            "text/plain": [
              "12.0"
            ]
          },
          "metadata": {},
          "execution_count": 9
        }
      ]
    },
    {
      "cell_type": "code",
      "source": [
        "def print_info(**kwargs):\n",
        "  print(kwargs, type(kwargs))"
      ],
      "metadata": {
        "id": "PvfR6uOLe484"
      },
      "execution_count": 10,
      "outputs": []
    },
    {
      "cell_type": "code",
      "source": [
        "print_info(nome='Pietro', sobrenome='Ribeiro')"
      ],
      "metadata": {
        "colab": {
          "base_uri": "https://localhost:8080/"
        },
        "id": "1ZRRbZoXfA8I",
        "outputId": "75e71079-a37e-4d7e-bf7f-03b748b5e672"
      },
      "execution_count": 11,
      "outputs": [
        {
          "output_type": "stream",
          "name": "stdout",
          "text": [
            "{'nome': 'Pietro', 'sobrenome': 'Ribeiro'} <class 'dict'>\n"
          ]
        }
      ]
    },
    {
      "cell_type": "code",
      "source": [],
      "metadata": {
        "id": "xouh9Re4fNrv"
      },
      "execution_count": null,
      "outputs": []
    }
  ]
}