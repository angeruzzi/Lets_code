{
  "nbformat": 4,
  "nbformat_minor": 0,
  "metadata": {
    "colab": {
      "provenance": [],
      "authorship_tag": "ABX9TyMqEWwwmbYyWyvOt6+5eFf1",
      "include_colab_link": true
    },
    "kernelspec": {
      "name": "python3",
      "display_name": "Python 3"
    },
    "language_info": {
      "name": "python"
    }
  },
  "cells": [
    {
      "cell_type": "markdown",
      "metadata": {
        "id": "view-in-github",
        "colab_type": "text"
      },
      "source": [
        "<a href=\"https://colab.research.google.com/github/angeruzzi/Lets_code/blob/main/Lets_Code_02_Estruturas_Avan%C3%A7adas_Aula_04_Dicion%C3%A1rios.ipynb\" target=\"_parent\"><img src=\"https://colab.research.google.com/assets/colab-badge.svg\" alt=\"Open In Colab\"/></a>"
      ]
    },
    {
      "cell_type": "markdown",
      "source": [
        "#Dicionários"
      ],
      "metadata": {
        "id": "x24fRDO8VvdZ"
      }
    },
    {
      "cell_type": "code",
      "execution_count": 1,
      "metadata": {
        "id": "5aJEeBTxVfW0"
      },
      "outputs": [],
      "source": [
        "dados_cidade = {\n",
        "    'nome': 'São Paulo',\n",
        "    'estado': 'São Paulo',\n",
        "    'area_km2': 1521,\n",
        "    'populacao_milhoes': 12.18,\n",
        "}"
      ]
    },
    {
      "cell_type": "code",
      "source": [
        "print(type(dados_cidade))"
      ],
      "metadata": {
        "colab": {
          "base_uri": "https://localhost:8080/"
        },
        "id": "0LptCLU0V-EC",
        "outputId": "14ad5f5a-930f-4062-e0a1-1ed2ec0f3fa0"
      },
      "execution_count": 2,
      "outputs": [
        {
          "output_type": "stream",
          "name": "stdout",
          "text": [
            "<class 'dict'>\n"
          ]
        }
      ]
    },
    {
      "cell_type": "code",
      "source": [
        "print(dados_cidade)"
      ],
      "metadata": {
        "colab": {
          "base_uri": "https://localhost:8080/"
        },
        "id": "Jj0jjmhEWA_9",
        "outputId": "fb012890-22fd-4310-c564-1f7acb2482f3"
      },
      "execution_count": 3,
      "outputs": [
        {
          "output_type": "stream",
          "name": "stdout",
          "text": [
            "{'nome': 'São Paulo', 'estado': 'São Paulo', 'area_km2': 1521, 'populacao_milhoes': 12.18}\n"
          ]
        }
      ]
    },
    {
      "cell_type": "code",
      "source": [
        "dados_cidade['pais'] = 'Brasil'"
      ],
      "metadata": {
        "id": "UjVq_6ogWDm_"
      },
      "execution_count": 4,
      "outputs": []
    },
    {
      "cell_type": "code",
      "source": [
        "print(dados_cidade)"
      ],
      "metadata": {
        "colab": {
          "base_uri": "https://localhost:8080/"
        },
        "id": "7woPa3UrWHep",
        "outputId": "b86bc802-6482-4aeb-9e32-6d6af3861953"
      },
      "execution_count": 5,
      "outputs": [
        {
          "output_type": "stream",
          "name": "stdout",
          "text": [
            "{'nome': 'São Paulo', 'estado': 'São Paulo', 'area_km2': 1521, 'populacao_milhoes': 12.18, 'pais': 'Brasil'}\n"
          ]
        }
      ]
    },
    {
      "cell_type": "code",
      "source": [
        "print(dados_cidade['nome'])"
      ],
      "metadata": {
        "colab": {
          "base_uri": "https://localhost:8080/"
        },
        "id": "HiUneVNqWIRl",
        "outputId": "a1da9ac0-b813-49d9-b323-3da6943071a0"
      },
      "execution_count": 6,
      "outputs": [
        {
          "output_type": "stream",
          "name": "stdout",
          "text": [
            "São Paulo\n"
          ]
        }
      ]
    },
    {
      "cell_type": "code",
      "source": [
        "dados_cidade['area_km2'] = 1500\n",
        "print(dados_cidade)"
      ],
      "metadata": {
        "colab": {
          "base_uri": "https://localhost:8080/"
        },
        "id": "b8ElBfGeWN56",
        "outputId": "dae928e3-9921-49d6-d783-4066322ffe13"
      },
      "execution_count": 8,
      "outputs": [
        {
          "output_type": "stream",
          "name": "stdout",
          "text": [
            "{'nome': 'São Paulo', 'estado': 'São Paulo', 'area_km2': 1500, 'populacao_milhoes': 12.18, 'pais': 'Brasil'}\n"
          ]
        }
      ]
    },
    {
      "cell_type": "code",
      "source": [
        "dados_cidade2 = dados_cidade\n",
        "dados_cidade2['nome'] = 'Santos'\n",
        "print(dados_cidade2)"
      ],
      "metadata": {
        "colab": {
          "base_uri": "https://localhost:8080/"
        },
        "id": "JhEBXkH-WTmf",
        "outputId": "1186b03c-a76b-40db-d2ae-71ac1503e8a4"
      },
      "execution_count": 11,
      "outputs": [
        {
          "output_type": "stream",
          "name": "stdout",
          "text": [
            "{'nome': 'Santos', 'estado': 'São Paulo', 'area_km2': 1500, 'populacao_milhoes': 12.18, 'pais': 'Brasil'}\n"
          ]
        }
      ]
    },
    {
      "cell_type": "code",
      "source": [
        "print(dados_cidade)"
      ],
      "metadata": {
        "colab": {
          "base_uri": "https://localhost:8080/"
        },
        "id": "dQ7XEeBLWYsV",
        "outputId": "9c6ef8f0-50f9-423b-dd19-ecec79005dc7"
      },
      "execution_count": 12,
      "outputs": [
        {
          "output_type": "stream",
          "name": "stdout",
          "text": [
            "{'nome': 'Santos', 'estado': 'São Paulo', 'area_km2': 1500, 'populacao_milhoes': 12.18, 'pais': 'Brasil'}\n"
          ]
        }
      ]
    },
    {
      "cell_type": "code",
      "source": [
        "dados_cidade3 = dados_cidade.copy()\n",
        "dados_cidade3['nome'] = 'Rio de Janeiro'\n",
        "print(dados_cidade3)"
      ],
      "metadata": {
        "colab": {
          "base_uri": "https://localhost:8080/"
        },
        "id": "KjJsJJYpWiGs",
        "outputId": "de45af0a-be82-43b1-a5f3-9bcc3f8d7195"
      },
      "execution_count": 14,
      "outputs": [
        {
          "output_type": "stream",
          "name": "stdout",
          "text": [
            "{'nome': 'Rio de Janeiro', 'estado': 'São Paulo', 'area_km2': 1500, 'populacao_milhoes': 12.18, 'pais': 'Brasil'}\n"
          ]
        }
      ]
    },
    {
      "cell_type": "code",
      "source": [
        "print(dados_cidade)"
      ],
      "metadata": {
        "colab": {
          "base_uri": "https://localhost:8080/"
        },
        "id": "ZSJSlarsWmcC",
        "outputId": "972f1874-e40a-4af1-fdcc-223922d31519"
      },
      "execution_count": 15,
      "outputs": [
        {
          "output_type": "stream",
          "name": "stdout",
          "text": [
            "{'nome': 'Santos', 'estado': 'São Paulo', 'area_km2': 1500, 'populacao_milhoes': 12.18, 'pais': 'Brasil'}\n"
          ]
        }
      ]
    },
    {
      "cell_type": "code",
      "source": [
        "novos_dados = {\n",
        "    'populacao_milhoes': 15,\n",
        "    'fundacao': '25/01/1554'\n",
        "}\n",
        "\n",
        "dados_cidade.update(novos_dados)\n",
        "print(dados_cidade)"
      ],
      "metadata": {
        "colab": {
          "base_uri": "https://localhost:8080/"
        },
        "id": "Dir2K7lRWv5N",
        "outputId": "23cd74df-95ed-490a-e47d-e3cd236c00db"
      },
      "execution_count": 16,
      "outputs": [
        {
          "output_type": "stream",
          "name": "stdout",
          "text": [
            "{'nome': 'Santos', 'estado': 'São Paulo', 'area_km2': 1500, 'populacao_milhoes': 15, 'pais': 'Brasil', 'fundacao': '25/01/1554'}\n"
          ]
        }
      ]
    },
    {
      "cell_type": "code",
      "source": [
        "dados_cidade['prefeito']"
      ],
      "metadata": {
        "colab": {
          "base_uri": "https://localhost:8080/",
          "height": 165
        },
        "id": "yhzjSFYbXHfV",
        "outputId": "0ecccd0a-17aa-458a-e99d-65fc750dff02"
      },
      "execution_count": 17,
      "outputs": [
        {
          "output_type": "error",
          "ename": "KeyError",
          "evalue": "ignored",
          "traceback": [
            "\u001b[0;31m---------------------------------------------------------------------------\u001b[0m",
            "\u001b[0;31mKeyError\u001b[0m                                  Traceback (most recent call last)",
            "\u001b[0;32m<ipython-input-17-93c4526f8562>\u001b[0m in \u001b[0;36m<module>\u001b[0;34m\u001b[0m\n\u001b[0;32m----> 1\u001b[0;31m \u001b[0mdados_cidade\u001b[0m\u001b[0;34m[\u001b[0m\u001b[0;34m'prefeito'\u001b[0m\u001b[0;34m]\u001b[0m\u001b[0;34m\u001b[0m\u001b[0;34m\u001b[0m\u001b[0m\n\u001b[0m",
            "\u001b[0;31mKeyError\u001b[0m: 'prefeito'"
          ]
        }
      ]
    },
    {
      "cell_type": "code",
      "source": [
        "print(dados_cidade.get('prefeito'))"
      ],
      "metadata": {
        "colab": {
          "base_uri": "https://localhost:8080/"
        },
        "id": "0ClCpLm3XLpk",
        "outputId": "0c52fa2d-0ca5-404c-eab1-fdb4461ed84e"
      },
      "execution_count": 19,
      "outputs": [
        {
          "output_type": "stream",
          "name": "stdout",
          "text": [
            "None\n"
          ]
        }
      ]
    },
    {
      "cell_type": "code",
      "source": [
        "print(dados_cidade.keys())\n",
        "print('----')\n",
        "print(dados_cidade.values())\n",
        "print('----')\n",
        "print(dados_cidade.items())"
      ],
      "metadata": {
        "colab": {
          "base_uri": "https://localhost:8080/"
        },
        "id": "UFyXTScWXQM1",
        "outputId": "4a85f898-a932-481d-d135-0996a2605b6e"
      },
      "execution_count": 21,
      "outputs": [
        {
          "output_type": "stream",
          "name": "stdout",
          "text": [
            "dict_keys(['nome', 'estado', 'area_km2', 'populacao_milhoes', 'pais', 'fundacao'])\n",
            "----\n",
            "dict_values(['Santos', 'São Paulo', 1500, 15, 'Brasil', '25/01/1554'])\n",
            "----\n",
            "dict_items([('nome', 'Santos'), ('estado', 'São Paulo'), ('area_km2', 1500), ('populacao_milhoes', 15), ('pais', 'Brasil'), ('fundacao', '25/01/1554')])\n"
          ]
        }
      ]
    },
    {
      "cell_type": "code",
      "source": [],
      "metadata": {
        "id": "ZF20F7HrXV6I"
      },
      "execution_count": null,
      "outputs": []
    }
  ]
}