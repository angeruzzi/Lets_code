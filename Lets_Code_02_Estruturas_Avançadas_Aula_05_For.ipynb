{
  "nbformat": 4,
  "nbformat_minor": 0,
  "metadata": {
    "colab": {
      "provenance": [],
      "authorship_tag": "ABX9TyMtQlGQZ3hhzyW05SsyXHGt",
      "include_colab_link": true
    },
    "kernelspec": {
      "name": "python3",
      "display_name": "Python 3"
    },
    "language_info": {
      "name": "python"
    }
  },
  "cells": [
    {
      "cell_type": "markdown",
      "metadata": {
        "id": "view-in-github",
        "colab_type": "text"
      },
      "source": [
        "<a href=\"https://colab.research.google.com/github/angeruzzi/Lets_code/blob/main/Lets_Code_02_Estruturas_Avan%C3%A7adas_Aula_05_For.ipynb\" target=\"_parent\"><img src=\"https://colab.research.google.com/assets/colab-badge.svg\" alt=\"Open In Colab\"/></a>"
      ]
    },
    {
      "cell_type": "markdown",
      "source": [
        "#For"
      ],
      "metadata": {
        "id": "HKQaCGj1aa3E"
      }
    },
    {
      "cell_type": "code",
      "execution_count": 1,
      "metadata": {
        "colab": {
          "base_uri": "https://localhost:8080/"
        },
        "id": "vQyYXE2PaWJ1",
        "outputId": "bf906f2c-070b-4ad6-e6a7-b1a06b2e3461"
      },
      "outputs": [
        {
          "output_type": "stream",
          "name": "stdout",
          "text": [
            "São Paulo\n",
            "Londres\n",
            "Tóquio\n",
            "Paris\n"
          ]
        }
      ],
      "source": [
        "nomes_cidades = ['São Paulo', 'Londres', 'Tóquio', 'Paris']\n",
        "\n",
        "for nome in nomes_cidades:\n",
        "  print(nome)"
      ]
    },
    {
      "cell_type": "code",
      "source": [
        "contador = 0\n",
        "nomes_cidades = ['São Paulo', 'Londres', 'Tóquio', 'Paris']\n",
        "while contador < len(nomes_cidades):\n",
        "  print(nomes_cidades[contador])\n",
        "  contador = contador + 1"
      ],
      "metadata": {
        "colab": {
          "base_uri": "https://localhost:8080/"
        },
        "id": "ZssJyNVVavu8",
        "outputId": "792cb100-d575-4b57-c036-caf5e4623f25"
      },
      "execution_count": 2,
      "outputs": [
        {
          "output_type": "stream",
          "name": "stdout",
          "text": [
            "São Paulo\n",
            "Londres\n",
            "Tóquio\n",
            "Paris\n"
          ]
        }
      ]
    },
    {
      "cell_type": "code",
      "source": [
        "nomes_cidades = 'São Paulo', 'Londres', 'Tóquio', 'Paris'\n",
        "\n",
        "for nome in nomes_cidades:\n",
        "  print(nome)"
      ],
      "metadata": {
        "colab": {
          "base_uri": "https://localhost:8080/"
        },
        "id": "vvBOiLn-bAAs",
        "outputId": "55e44c01-9d84-4214-e74c-b6d9f1423a03"
      },
      "execution_count": 3,
      "outputs": [
        {
          "output_type": "stream",
          "name": "stdout",
          "text": [
            "São Paulo\n",
            "Londres\n",
            "Tóquio\n",
            "Paris\n"
          ]
        }
      ]
    },
    {
      "cell_type": "code",
      "source": [
        "cidade = {\n",
        "    'nome':'São Paulo', \n",
        "    'estado': 'São Paulo',\n",
        "    'populacao_limite': 12.2\n",
        "}\n",
        "\n",
        "for chave in cidade:\n",
        "  print(f'{chave}: {cidade[chave]}')"
      ],
      "metadata": {
        "colab": {
          "base_uri": "https://localhost:8080/"
        },
        "id": "mUq8kql9bFBW",
        "outputId": "0d90a228-7d8a-4638-cf77-6d83903ae556"
      },
      "execution_count": 4,
      "outputs": [
        {
          "output_type": "stream",
          "name": "stdout",
          "text": [
            "nome: São Paulo\n",
            "estado: São Paulo\n",
            "populacao_limite: 12.2\n"
          ]
        }
      ]
    },
    {
      "cell_type": "code",
      "source": [
        "nomes_cidades = ['São Paulo', 'Londres', 'Tóquio', 'Paris']\n",
        "\n",
        "for nome in nomes_cidades:\n",
        "  nome = 'Rio de Janeiro'\n",
        "print(nomes_cidades)"
      ],
      "metadata": {
        "colab": {
          "base_uri": "https://localhost:8080/"
        },
        "id": "hyhf60Cvbdt6",
        "outputId": "25900fdd-9b02-44fd-f985-20187a957477"
      },
      "execution_count": 5,
      "outputs": [
        {
          "output_type": "stream",
          "name": "stdout",
          "text": [
            "['São Paulo', 'Londres', 'Tóquio', 'Paris']\n"
          ]
        }
      ]
    },
    {
      "cell_type": "code",
      "source": [
        "for posicao in range(len(nomes_cidades)):\n",
        "  nomes_cidades[posicao] = 'Rio de Janeiro'\n",
        "print(nomes_cidades)\n"
      ],
      "metadata": {
        "colab": {
          "base_uri": "https://localhost:8080/"
        },
        "id": "cimhSsrvbt58",
        "outputId": "a3041f3d-3887-4d3e-af2c-9cd074257d50"
      },
      "execution_count": 6,
      "outputs": [
        {
          "output_type": "stream",
          "name": "stdout",
          "text": [
            "['Rio de Janeiro', 'Rio de Janeiro', 'Rio de Janeiro', 'Rio de Janeiro']\n"
          ]
        }
      ]
    },
    {
      "cell_type": "code",
      "source": [
        "print(list(range(10)))\n",
        "print(list(range(2, 10)))\n",
        "print(list(range(2, 10, 2)))"
      ],
      "metadata": {
        "colab": {
          "base_uri": "https://localhost:8080/"
        },
        "id": "AAQjUoHTb76Z",
        "outputId": "fedb5a6d-3f59-4fc1-dcf6-ecb5e0de3efa"
      },
      "execution_count": 7,
      "outputs": [
        {
          "output_type": "stream",
          "name": "stdout",
          "text": [
            "[0, 1, 2, 3, 4, 5, 6, 7, 8, 9]\n",
            "[2, 3, 4, 5, 6, 7, 8, 9]\n",
            "[2, 4, 6, 8]\n"
          ]
        }
      ]
    },
    {
      "cell_type": "code",
      "source": [],
      "metadata": {
        "id": "kz913cdwcDKZ"
      },
      "execution_count": null,
      "outputs": []
    }
  ]
}