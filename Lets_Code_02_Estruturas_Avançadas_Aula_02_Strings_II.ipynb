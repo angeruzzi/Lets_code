{
  "nbformat": 4,
  "nbformat_minor": 0,
  "metadata": {
    "colab": {
      "provenance": [],
      "authorship_tag": "ABX9TyOtq5aXD7gendNPlHmP7jkx",
      "include_colab_link": true
    },
    "kernelspec": {
      "name": "python3",
      "display_name": "Python 3"
    },
    "language_info": {
      "name": "python"
    }
  },
  "cells": [
    {
      "cell_type": "markdown",
      "metadata": {
        "id": "view-in-github",
        "colab_type": "text"
      },
      "source": [
        "<a href=\"https://colab.research.google.com/github/angeruzzi/Lets_code/blob/main/Lets_Code_02_Estruturas_Avan%C3%A7adas_Aula_02_Strings_II.ipynb\" target=\"_parent\"><img src=\"https://colab.research.google.com/assets/colab-badge.svg\" alt=\"Open In Colab\"/></a>"
      ]
    },
    {
      "cell_type": "markdown",
      "source": [
        "#Strings II"
      ],
      "metadata": {
        "id": "tN657YQqTcy-"
      }
    },
    {
      "cell_type": "code",
      "execution_count": 1,
      "metadata": {
        "colab": {
          "base_uri": "https://localhost:8080/"
        },
        "id": "BT_2A7o4QRxP",
        "outputId": "8ee0ae49-e3e6-429d-c692-0ad1969eef79"
      },
      "outputs": [
        {
          "output_type": "stream",
          "name": "stdout",
          "text": [
            "Olá, Felipe\n"
          ]
        }
      ],
      "source": [
        "cumprimento = 'Olá, '\n",
        "nome = 'Felipe'\n",
        "print(cumprimento + nome)"
      ]
    },
    {
      "cell_type": "code",
      "source": [
        "print(nome * 5)"
      ],
      "metadata": {
        "colab": {
          "base_uri": "https://localhost:8080/"
        },
        "id": "L2puUJO_T4f7",
        "outputId": "2a0ee38e-9324-48e1-ef9e-0d8cfec70c4b"
      },
      "execution_count": 2,
      "outputs": [
        {
          "output_type": "stream",
          "name": "stdout",
          "text": [
            "FelipeFelipeFelipeFelipeFelipe\n"
          ]
        }
      ]
    },
    {
      "cell_type": "code",
      "source": [
        "nome = 'Fleipe'\n",
        "idade = 35\n",
        "n_filhos = 2\n",
        "\n",
        "print(nome + ' tem ' + str(idade) + ' anos e ' + str(n_filhos) + ' filhos')"
      ],
      "metadata": {
        "colab": {
          "base_uri": "https://localhost:8080/"
        },
        "id": "I9pV523IT9-3",
        "outputId": "8c6d40fd-4e4a-496f-a1da-9fe3b81f304d"
      },
      "execution_count": 4,
      "outputs": [
        {
          "output_type": "stream",
          "name": "stdout",
          "text": [
            "Fleipe tem 35 anos e 2 filhos\n"
          ]
        }
      ]
    },
    {
      "cell_type": "code",
      "source": [
        "print('{} tem {} anos e {} filhos'.format(nome, idade, n_filhos))"
      ],
      "metadata": {
        "colab": {
          "base_uri": "https://localhost:8080/"
        },
        "id": "XKv1j2TIUNIl",
        "outputId": "0cb4115c-4b54-4cf0-e1f4-5737173cd312"
      },
      "execution_count": 5,
      "outputs": [
        {
          "output_type": "stream",
          "name": "stdout",
          "text": [
            "Fleipe tem 35 anos e 2 filhos\n"
          ]
        }
      ]
    },
    {
      "cell_type": "code",
      "source": [
        "preco_gasolina = 3.476\n",
        "print('o preço da gasolina hoje subir e está em R$ {:.2f}'.format(preco_gasolina))"
      ],
      "metadata": {
        "colab": {
          "base_uri": "https://localhost:8080/"
        },
        "id": "-k21CTg4Udv3",
        "outputId": "1819a57d-6d25-4588-e8a3-c54e83368368"
      },
      "execution_count": 6,
      "outputs": [
        {
          "output_type": "stream",
          "name": "stdout",
          "text": [
            "o preço da gasolina hoje subir e está em R$ 3.48\n"
          ]
        }
      ]
    },
    {
      "cell_type": "code",
      "source": [
        "print(f'{nome} tem {idade} anos e {n_filhos} filhos')"
      ],
      "metadata": {
        "colab": {
          "base_uri": "https://localhost:8080/"
        },
        "id": "2aFfc_a9UqjG",
        "outputId": "161c999a-ec55-42fb-b72a-c2765a4d451c"
      },
      "execution_count": 7,
      "outputs": [
        {
          "output_type": "stream",
          "name": "stdout",
          "text": [
            "Fleipe tem 35 anos e 2 filhos\n"
          ]
        }
      ]
    },
    {
      "cell_type": "code",
      "source": [],
      "metadata": {
        "id": "8VFRBuxpU5p9"
      },
      "execution_count": null,
      "outputs": []
    }
  ]
}