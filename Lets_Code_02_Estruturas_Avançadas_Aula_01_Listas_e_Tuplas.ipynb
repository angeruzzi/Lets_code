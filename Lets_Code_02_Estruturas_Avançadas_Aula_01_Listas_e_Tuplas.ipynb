{
  "nbformat": 4,
  "nbformat_minor": 0,
  "metadata": {
    "colab": {
      "provenance": [],
      "authorship_tag": "ABX9TyOBJslsDxutfuni6tCj5tpb",
      "include_colab_link": true
    },
    "kernelspec": {
      "name": "python3",
      "display_name": "Python 3"
    },
    "language_info": {
      "name": "python"
    }
  },
  "cells": [
    {
      "cell_type": "markdown",
      "metadata": {
        "id": "view-in-github",
        "colab_type": "text"
      },
      "source": [
        "<a href=\"https://colab.research.google.com/github/angeruzzi/Lets_code/blob/main/Lets_Code_02_Estruturas_Avan%C3%A7adas_Aula_01_Listas_e_Tuplas.ipynb\" target=\"_parent\"><img src=\"https://colab.research.google.com/assets/colab-badge.svg\" alt=\"Open In Colab\"/></a>"
      ]
    },
    {
      "cell_type": "markdown",
      "source": [
        "#Listas"
      ],
      "metadata": {
        "id": "M0bAYSk7LVij"
      }
    },
    {
      "cell_type": "code",
      "execution_count": 5,
      "metadata": {
        "colab": {
          "base_uri": "https://localhost:8080/"
        },
        "id": "a2t0g6VBIUVG",
        "outputId": "6ed4ec83-f04d-4166-e403-9dddfee1b7da"
      },
      "outputs": [
        {
          "output_type": "execute_result",
          "data": {
            "text/plain": [
              "['Brasil', 'Argentina', 'China', 'Canadá', 'Japão']"
            ]
          },
          "metadata": {},
          "execution_count": 5
        }
      ],
      "source": [
        "nomes_paises = ['Brasil', 'Argentina', 'China', 'Canadá', 'Japão']\n",
        "nomes_paises"
      ]
    },
    {
      "cell_type": "code",
      "source": [
        "print('Tamanho da lista:', len(nomes_paises))"
      ],
      "metadata": {
        "colab": {
          "base_uri": "https://localhost:8080/"
        },
        "id": "dgLVCdoKIq9B",
        "outputId": "5c03c948-2567-4aeb-f1d3-ea4db7df12aa"
      },
      "execution_count": 6,
      "outputs": [
        {
          "output_type": "stream",
          "name": "stdout",
          "text": [
            "Tamanho da lista: 5\n"
          ]
        }
      ]
    },
    {
      "cell_type": "code",
      "source": [
        "print('País:', nomes_paises[4])"
      ],
      "metadata": {
        "colab": {
          "base_uri": "https://localhost:8080/"
        },
        "id": "Shdo38FjIw4o",
        "outputId": "5980ec7d-f958-4e38-9c6d-cdc47747136a"
      },
      "execution_count": 7,
      "outputs": [
        {
          "output_type": "stream",
          "name": "stdout",
          "text": [
            "País: Japão\n"
          ]
        }
      ]
    },
    {
      "cell_type": "code",
      "source": [
        "print('País:', nomes_paises[-1])"
      ],
      "metadata": {
        "colab": {
          "base_uri": "https://localhost:8080/"
        },
        "id": "WfSywrB1JCtr",
        "outputId": "e00ec65e-d9f7-4ec4-938f-f3ef94941da6"
      },
      "execution_count": 8,
      "outputs": [
        {
          "output_type": "stream",
          "name": "stdout",
          "text": [
            "País: Japão\n"
          ]
        }
      ]
    },
    {
      "cell_type": "code",
      "source": [
        "nomes_paises[4] = 'Colômbia'\n",
        "print('País:', nomes_paises[4])\n",
        "print(nomes_paises)"
      ],
      "metadata": {
        "colab": {
          "base_uri": "https://localhost:8080/"
        },
        "id": "0Tmk6k9qJ3Gw",
        "outputId": "0f62b2ea-b043-499c-8b11-061dab6f8900"
      },
      "execution_count": 16,
      "outputs": [
        {
          "output_type": "stream",
          "name": "stdout",
          "text": [
            "País: Colômbia\n",
            "['Brasil', 'Argentina', 'China', 'Canadá', 'Colômbia']\n"
          ]
        }
      ]
    },
    {
      "cell_type": "code",
      "source": [
        "print('País:', nomes_paises[1:3])"
      ],
      "metadata": {
        "colab": {
          "base_uri": "https://localhost:8080/"
        },
        "id": "1uxMy3PrJEER",
        "outputId": "83d8702e-32f2-48b2-cf7c-7135c7dbd0f4"
      },
      "execution_count": 9,
      "outputs": [
        {
          "output_type": "stream",
          "name": "stdout",
          "text": [
            "País: ['Argentina', 'China']\n"
          ]
        }
      ]
    },
    {
      "cell_type": "code",
      "source": [
        "print('País:', nomes_paises[1:-1])"
      ],
      "metadata": {
        "colab": {
          "base_uri": "https://localhost:8080/"
        },
        "id": "OVKOt9n2JW4K",
        "outputId": "110f8daf-4aee-4fae-808c-414babd572d5"
      },
      "execution_count": 17,
      "outputs": [
        {
          "output_type": "stream",
          "name": "stdout",
          "text": [
            "País: ['Argentina', 'China', 'Canadá']\n"
          ]
        }
      ]
    },
    {
      "cell_type": "code",
      "source": [
        "print('País:', nomes_paises[2:])"
      ],
      "metadata": {
        "colab": {
          "base_uri": "https://localhost:8080/"
        },
        "id": "HTXy-ipVJahR",
        "outputId": "b5ffa8e2-f3f7-43c2-f169-ebf4bad11d0f"
      },
      "execution_count": 18,
      "outputs": [
        {
          "output_type": "stream",
          "name": "stdout",
          "text": [
            "País: ['China', 'Canadá', 'Colômbia']\n"
          ]
        }
      ]
    },
    {
      "cell_type": "code",
      "source": [
        "print('País:', nomes_paises[:3])"
      ],
      "metadata": {
        "colab": {
          "base_uri": "https://localhost:8080/"
        },
        "id": "AO-rzW5IJdVw",
        "outputId": "cca4e3ce-9109-46b5-8bf9-12fd2fc55c06"
      },
      "execution_count": 19,
      "outputs": [
        {
          "output_type": "stream",
          "name": "stdout",
          "text": [
            "País: ['Brasil', 'Argentina', 'China']\n"
          ]
        }
      ]
    },
    {
      "cell_type": "code",
      "source": [
        "print('País:', nomes_paises[:])"
      ],
      "metadata": {
        "colab": {
          "base_uri": "https://localhost:8080/"
        },
        "id": "_FQpkyu3JiCf",
        "outputId": "c11b7fc5-efc2-4c9a-9dc9-cf8ce76f3119"
      },
      "execution_count": 20,
      "outputs": [
        {
          "output_type": "stream",
          "name": "stdout",
          "text": [
            "País: ['Brasil', 'Argentina', 'China', 'Canadá', 'Colômbia']\n"
          ]
        }
      ]
    },
    {
      "cell_type": "code",
      "source": [
        "print('País:', nomes_paises[::2])"
      ],
      "metadata": {
        "colab": {
          "base_uri": "https://localhost:8080/"
        },
        "id": "j4WexO7NJjvm",
        "outputId": "32647930-e58a-4047-af11-daf9c5f63d91"
      },
      "execution_count": 21,
      "outputs": [
        {
          "output_type": "stream",
          "name": "stdout",
          "text": [
            "País: ['Brasil', 'China', 'Colômbia']\n"
          ]
        }
      ]
    },
    {
      "cell_type": "code",
      "source": [
        "print(\"Brasil\" in nomes_paises)"
      ],
      "metadata": {
        "colab": {
          "base_uri": "https://localhost:8080/"
        },
        "id": "36RS54oGJr4b",
        "outputId": "7a37f0c0-95c7-4b45-a867-216f9c76adcf"
      },
      "execution_count": 22,
      "outputs": [
        {
          "output_type": "stream",
          "name": "stdout",
          "text": [
            "True\n"
          ]
        }
      ]
    },
    {
      "cell_type": "code",
      "source": [
        "print(\"Canadá\" not in nomes_paises)"
      ],
      "metadata": {
        "colab": {
          "base_uri": "https://localhost:8080/"
        },
        "id": "UXHTQnGAKR_6",
        "outputId": "dd52aeba-1aa0-4f21-ac6f-4f3797988d92"
      },
      "execution_count": 23,
      "outputs": [
        {
          "output_type": "stream",
          "name": "stdout",
          "text": [
            "False\n"
          ]
        }
      ]
    },
    {
      "cell_type": "code",
      "source": [
        "lista_capitais = []"
      ],
      "metadata": {
        "id": "6GBszQvjKVhY"
      },
      "execution_count": 26,
      "outputs": []
    },
    {
      "cell_type": "code",
      "source": [
        "lista_capitais.append('Brasília')\n",
        "lista_capitais.append('Buenos Aires')\n",
        "lista_capitais.append('Pequim')\n",
        "lista_capitais.append('Bogotá')"
      ],
      "metadata": {
        "id": "8GjTb_vdKX_q"
      },
      "execution_count": 27,
      "outputs": []
    },
    {
      "cell_type": "code",
      "source": [
        "lista_capitais.insert(2,'Paris')\n",
        "lista_capitais"
      ],
      "metadata": {
        "colab": {
          "base_uri": "https://localhost:8080/"
        },
        "id": "OsRO0XqdKkCk",
        "outputId": "02b17b88-bbda-4449-86cf-842704068b25"
      },
      "execution_count": 29,
      "outputs": [
        {
          "output_type": "execute_result",
          "data": {
            "text/plain": [
              "['Brasília', 'Buenos Aires', 'Paris', 'Pequim', 'Bogotá']"
            ]
          },
          "metadata": {},
          "execution_count": 29
        }
      ]
    },
    {
      "cell_type": "code",
      "source": [
        "lista_capitais.remove('Buenos Aires')\n",
        "lista_capitais"
      ],
      "metadata": {
        "colab": {
          "base_uri": "https://localhost:8080/"
        },
        "id": "4Lj2D8e2Kyt2",
        "outputId": "7e9b6efb-ded5-4306-b6d1-cf3754fc270d"
      },
      "execution_count": 30,
      "outputs": [
        {
          "output_type": "execute_result",
          "data": {
            "text/plain": [
              "['Brasília', 'Paris', 'Pequim', 'Bogotá']"
            ]
          },
          "metadata": {},
          "execution_count": 30
        }
      ]
    },
    {
      "cell_type": "code",
      "source": [
        "removido = lista_capitais.pop(2)\n",
        "print(lista_capitais, removido)"
      ],
      "metadata": {
        "colab": {
          "base_uri": "https://localhost:8080/"
        },
        "id": "CCx2whHBK748",
        "outputId": "fed9937c-7dd9-4185-edd8-35f7b3fa3df5"
      },
      "execution_count": 31,
      "outputs": [
        {
          "output_type": "stream",
          "name": "stdout",
          "text": [
            "['Brasília', 'Paris', 'Bogotá'] Pequim\n"
          ]
        }
      ]
    },
    {
      "cell_type": "markdown",
      "source": [
        "#Tuplas"
      ],
      "metadata": {
        "id": "D5y2aqTLLaYm"
      }
    },
    {
      "cell_type": "code",
      "source": [
        "nomes_paises = ('Brasil', 'Argentina', 'China', 'Canadá', 'Japão')\n",
        "print(nomes_paises, type(nomes_paises))"
      ],
      "metadata": {
        "colab": {
          "base_uri": "https://localhost:8080/"
        },
        "id": "tLGJOAufLbnQ",
        "outputId": "8b3726f1-550c-498a-cbbe-5627616e217b"
      },
      "execution_count": 35,
      "outputs": [
        {
          "output_type": "stream",
          "name": "stdout",
          "text": [
            "('Brasil', 'Argentina', 'China', 'Canadá', 'Japão') <class 'tuple'>\n"
          ]
        }
      ]
    },
    {
      "cell_type": "code",
      "source": [
        "nomes_paises = 'Brasil', 'Argentina', 'China', 'Canadá', 'Japão'\n",
        "print(nomes_paises, type(nomes_paises))"
      ],
      "metadata": {
        "colab": {
          "base_uri": "https://localhost:8080/"
        },
        "id": "ch6JFQ6nLkAB",
        "outputId": "0dcb5d14-4bd9-4e8f-aff5-6c0a1c45e513"
      },
      "execution_count": 36,
      "outputs": [
        {
          "output_type": "stream",
          "name": "stdout",
          "text": [
            "('Brasil', 'Argentina', 'China', 'Canadá', 'Japão') <class 'tuple'>\n"
          ]
        }
      ]
    },
    {
      "cell_type": "code",
      "source": [
        "nome_estado = 'São Paulo',\n",
        "print(nome_estado, type(nome_estado))"
      ],
      "metadata": {
        "colab": {
          "base_uri": "https://localhost:8080/"
        },
        "id": "ltMcxpPHLuSz",
        "outputId": "c7c84108-da50-4ccf-af83-d7b60deb1025"
      },
      "execution_count": 38,
      "outputs": [
        {
          "output_type": "stream",
          "name": "stdout",
          "text": [
            "('São Paulo',) <class 'tuple'>\n"
          ]
        }
      ]
    },
    {
      "cell_type": "code",
      "source": [
        "len(nomes_paises)"
      ],
      "metadata": {
        "colab": {
          "base_uri": "https://localhost:8080/"
        },
        "id": "AngPsrqrL5yH",
        "outputId": "0a98665a-ecf2-4e52-a470-11462e8943db"
      },
      "execution_count": 39,
      "outputs": [
        {
          "output_type": "execute_result",
          "data": {
            "text/plain": [
              "5"
            ]
          },
          "metadata": {},
          "execution_count": 39
        }
      ]
    },
    {
      "cell_type": "code",
      "source": [
        "nomes_paises[0]"
      ],
      "metadata": {
        "colab": {
          "base_uri": "https://localhost:8080/",
          "height": 35
        },
        "id": "dAvjZoY8L9TQ",
        "outputId": "828a0a91-17b7-4f49-c543-f26b6f1d7aa9"
      },
      "execution_count": 40,
      "outputs": [
        {
          "output_type": "execute_result",
          "data": {
            "text/plain": [
              "'Brasil'"
            ],
            "application/vnd.google.colaboratory.intrinsic+json": {
              "type": "string"
            }
          },
          "metadata": {},
          "execution_count": 40
        }
      ]
    },
    {
      "cell_type": "code",
      "source": [
        "b, a, c, ca, j = nomes_paises"
      ],
      "metadata": {
        "id": "B7HSVaMnL_0m"
      },
      "execution_count": 41,
      "outputs": []
    },
    {
      "cell_type": "code",
      "source": [
        "print(b, c, j)"
      ],
      "metadata": {
        "colab": {
          "base_uri": "https://localhost:8080/"
        },
        "id": "9XxFXN7HMIbD",
        "outputId": "d8289767-d2bf-4b74-846b-8dcca0b397da"
      },
      "execution_count": 42,
      "outputs": [
        {
          "output_type": "stream",
          "name": "stdout",
          "text": [
            "Brasil China Japão\n"
          ]
        }
      ]
    },
    {
      "cell_type": "code",
      "source": [
        "print(*nomes_paises)"
      ],
      "metadata": {
        "colab": {
          "base_uri": "https://localhost:8080/"
        },
        "id": "06WZ2S7PMKtl",
        "outputId": "59f619f6-0b88-47a9-ccb4-4812c1b1ea5b"
      },
      "execution_count": 43,
      "outputs": [
        {
          "output_type": "stream",
          "name": "stdout",
          "text": [
            "Brasil Argentina China Canadá Japão\n"
          ]
        }
      ]
    },
    {
      "cell_type": "code",
      "source": [],
      "metadata": {
        "id": "x2Bp7ZfFMQ5T"
      },
      "execution_count": null,
      "outputs": []
    }
  ]
}