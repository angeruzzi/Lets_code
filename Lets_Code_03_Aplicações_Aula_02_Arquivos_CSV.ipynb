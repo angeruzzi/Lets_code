{
  "nbformat": 4,
  "nbformat_minor": 0,
  "metadata": {
    "colab": {
      "provenance": [],
      "authorship_tag": "ABX9TyPXizOMPaTFQsaBXFTrPL8M",
      "include_colab_link": true
    },
    "kernelspec": {
      "name": "python3",
      "display_name": "Python 3"
    },
    "language_info": {
      "name": "python"
    }
  },
  "cells": [
    {
      "cell_type": "markdown",
      "metadata": {
        "id": "view-in-github",
        "colab_type": "text"
      },
      "source": [
        "<a href=\"https://colab.research.google.com/github/angeruzzi/Lets_code/blob/main/Lets_Code_03_Aplica%C3%A7%C3%B5es_Aula_02_Arquivos_CSV.ipynb\" target=\"_parent\"><img src=\"https://colab.research.google.com/assets/colab-badge.svg\" alt=\"Open In Colab\"/></a>"
      ]
    },
    {
      "cell_type": "markdown",
      "source": [
        "#Arquivos CSV"
      ],
      "metadata": {
        "id": "QPmRFA5Dn8wg"
      }
    },
    {
      "cell_type": "code",
      "execution_count": 1,
      "metadata": {
        "id": "YncukXIWn2FM"
      },
      "outputs": [],
      "source": [
        "import csv"
      ]
    },
    {
      "cell_type": "code",
      "source": [
        "with open('brasil_covid.csv', 'r', encoding='utf-8') as arquivo_csv:\n",
        "  leitor = csv.reader(arquivo_csv)\n",
        "  for linha in leitor:\n",
        "    print(linha)"
      ],
      "metadata": {
        "id": "J6_pVwOsoDIm"
      },
      "execution_count": null,
      "outputs": []
    },
    {
      "cell_type": "code",
      "source": [
        "with open('brasil_covid.csv', 'r', encoding='utf-8') as arquivo_csv:\n",
        "  leitor = csv.reader(arquivo_csv)\n",
        "  header = next(leitor)\n",
        "  for linha in leitor:\n",
        "    if float(linha[2]) > 1:\n",
        "      print(linha)"
      ],
      "metadata": {
        "id": "esJoKQZ-pwPM"
      },
      "execution_count": null,
      "outputs": []
    },
    {
      "cell_type": "code",
      "source": [
        "with open('brasil_covid.csv', 'r') as csv_file:\n",
        "  linhas = csv_file.read()\n",
        "  linhas = linhas.split('\\n')\n",
        "  for linha in linhas:\n",
        "    linha = linha.split(',')\n",
        "    print(linha)"
      ],
      "metadata": {
        "id": "QaJWQbykqChN"
      },
      "execution_count": null,
      "outputs": []
    },
    {
      "cell_type": "code",
      "source": [
        "with open('users.csv', 'w', encoding='utf-8', newline='') as arquivo_users:\n",
        "  escritor = csv.writer(arquivo_users)\n",
        "  escritor.writerow(['nome', 'sobrenome','email', 'genero'])\n",
        "  escritor.writerow(['Pietro', 'Ribeiro', 'pietro@email.com', 'Masculino'])"
      ],
      "metadata": {
        "id": "g89kZSDUqcy1"
      },
      "execution_count": 5,
      "outputs": []
    },
    {
      "cell_type": "code",
      "source": [],
      "metadata": {
        "id": "aZDIWnpCrwXe"
      },
      "execution_count": null,
      "outputs": []
    },
    {
      "cell_type": "code",
      "source": [
        "header = ['nome', 'sobrenome']\n",
        "dados = []\n",
        "opt = input('O que deseja fazer?\\n1 - Cadastrar\\n0 - Sair\\n')\n",
        "\n",
        "while opt != '0':\n",
        "  nome = input('Qual o seu nome?')\n",
        "  sobrenome = input('Qual o seu sobrenome?')\n",
        "  dados.append(([nome, sobrenome]))\n",
        "  opt = input('O que deseja fazer?\\n1 - Cadastrar\\n0 - Sair\\n')\n",
        "\n",
        "print(dados)\n",
        "\n",
        "with open('users.csv', 'w', newline='') as arquivo_csv:\n",
        "  writer = csv.writer(arquivo_csv)\n",
        "  writer.writerow(header)\n",
        "  writer.writerow(dados)"
      ],
      "metadata": {
        "colab": {
          "base_uri": "https://localhost:8080/",
          "height": 426
        },
        "id": "L6BCfS1zrE6f",
        "outputId": "e83bf734-d0bb-4832-fda7-8ba0ff36f83a"
      },
      "execution_count": 6,
      "outputs": [
        {
          "output_type": "stream",
          "name": "stdout",
          "text": [
            "O que deseja fazer?\n",
            "1 - Cadastrar\n",
            "0 - Sair\n",
            "1\n",
            "Qual o seu nome?Alessandro\n",
            "Qual o seu sobrenome?Sobrenome\n",
            "O que deseja fazer?\n",
            "1 - Cadastrar\n",
            "0 - Sair\n",
            "0\n",
            "[['Alessandro', 'Sobrenome']]\n"
          ]
        },
        {
          "output_type": "error",
          "ename": "TypeError",
          "evalue": "ignored",
          "traceback": [
            "\u001b[0;31m---------------------------------------------------------------------------\u001b[0m",
            "\u001b[0;31mTypeError\u001b[0m                                 Traceback (most recent call last)",
            "\u001b[0;32m<ipython-input-6-c32bd01fa02c>\u001b[0m in \u001b[0;36m<module>\u001b[0;34m\u001b[0m\n\u001b[1;32m     17\u001b[0m \u001b[0;34m\u001b[0m\u001b[0m\n\u001b[1;32m     18\u001b[0m \u001b[0;32mwith\u001b[0m \u001b[0mopen\u001b[0m\u001b[0;34m(\u001b[0m\u001b[0;34m'users.csv'\u001b[0m\u001b[0;34m,\u001b[0m \u001b[0;34m'r'\u001b[0m\u001b[0;34m)\u001b[0m \u001b[0;32mas\u001b[0m \u001b[0mcsv_file\u001b[0m\u001b[0;34m:\u001b[0m\u001b[0;34m\u001b[0m\u001b[0;34m\u001b[0m\u001b[0m\n\u001b[0;32m---> 19\u001b[0;31m   \u001b[0mcsv_reader\u001b[0m \u001b[0;34m=\u001b[0m \u001b[0mcsv\u001b[0m\u001b[0;34m.\u001b[0m\u001b[0mreader\u001b[0m\u001b[0;34m(\u001b[0m\u001b[0mcsv_file\u001b[0m\u001b[0;34m,\u001b[0m \u001b[0mdelimitation\u001b[0m\u001b[0;34m=\u001b[0m\u001b[0;34m','\u001b[0m\u001b[0;34m)\u001b[0m\u001b[0;34m\u001b[0m\u001b[0;34m\u001b[0m\u001b[0m\n\u001b[0m\u001b[1;32m     20\u001b[0m   \u001b[0;32mfor\u001b[0m \u001b[0mrow\u001b[0m \u001b[0;32min\u001b[0m \u001b[0mcsv_reader\u001b[0m\u001b[0;34m:\u001b[0m\u001b[0;34m\u001b[0m\u001b[0;34m\u001b[0m\u001b[0m\n\u001b[1;32m     21\u001b[0m     \u001b[0mprint\u001b[0m\u001b[0;34m(\u001b[0m\u001b[0mrow\u001b[0m\u001b[0;34m)\u001b[0m\u001b[0;34m\u001b[0m\u001b[0;34m\u001b[0m\u001b[0m\n",
            "\u001b[0;31mTypeError\u001b[0m: 'delimitation' is an invalid keyword argument for this function"
          ]
        }
      ]
    },
    {
      "cell_type": "code",
      "source": [
        "with open('users.csv', 'r') as csv_file:\n",
        "  csv_reader = csv.reader(csv_file, delimiter=',')\n",
        "  for row in csv_reader:\n",
        "    print(row)"
      ],
      "metadata": {
        "colab": {
          "base_uri": "https://localhost:8080/"
        },
        "id": "sF8MpUSTsY_M",
        "outputId": "8fb8218a-ad44-4219-966b-99a030a2a637"
      },
      "execution_count": 7,
      "outputs": [
        {
          "output_type": "stream",
          "name": "stdout",
          "text": [
            "['nome', 'sobrenome']\n",
            "[\"['Alessandro', 'Sobrenome']\"]\n"
          ]
        }
      ]
    },
    {
      "cell_type": "code",
      "source": [],
      "metadata": {
        "id": "Y2jGbbtAsoHo"
      },
      "execution_count": null,
      "outputs": []
    }
  ]
}