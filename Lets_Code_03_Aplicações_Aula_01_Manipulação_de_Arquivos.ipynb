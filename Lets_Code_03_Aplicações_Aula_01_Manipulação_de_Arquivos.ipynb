{
  "nbformat": 4,
  "nbformat_minor": 0,
  "metadata": {
    "colab": {
      "provenance": [],
      "authorship_tag": "ABX9TyMyhRU9x87o8p2zU4jcFRQ5",
      "include_colab_link": true
    },
    "kernelspec": {
      "name": "python3",
      "display_name": "Python 3"
    },
    "language_info": {
      "name": "python"
    }
  },
  "cells": [
    {
      "cell_type": "markdown",
      "metadata": {
        "id": "view-in-github",
        "colab_type": "text"
      },
      "source": [
        "<a href=\"https://colab.research.google.com/github/angeruzzi/Lets_code/blob/main/Lets_Code_03_Aplica%C3%A7%C3%B5es_Aula_01_Manipula%C3%A7%C3%A3o_de_Arquivos.ipynb\" target=\"_parent\"><img src=\"https://colab.research.google.com/assets/colab-badge.svg\" alt=\"Open In Colab\"/></a>"
      ]
    },
    {
      "cell_type": "markdown",
      "source": [
        "#Manipulação de Arquivos"
      ],
      "metadata": {
        "id": "AdP2ENWjlxlz"
      }
    },
    {
      "cell_type": "markdown",
      "source": [
        "##Leitura"
      ],
      "metadata": {
        "id": "8jH64nummOWA"
      }
    },
    {
      "cell_type": "code",
      "execution_count": null,
      "metadata": {
        "id": "d8ir46sZlhtu"
      },
      "outputs": [],
      "source": [
        "arquivo = open('dom_casmurro_cap_1.txt', 'r', encoding='utf-8')\n",
        "texto = arquivo.read()\n",
        "print(texto)\n",
        "arquivo.close()"
      ]
    },
    {
      "cell_type": "code",
      "source": [
        "arquivo = open('dom_casmurro_cap_1.txt', 'r', encoding='utf-8')\n",
        "linha = arquivo.readline()\n",
        "while linha != '':\n",
        "  print(linha, end='')\n",
        "  linha = arquivo.readline()\n",
        "arquivo.close()"
      ],
      "metadata": {
        "id": "ppiv6Vy8mQ8Z"
      },
      "execution_count": null,
      "outputs": []
    },
    {
      "cell_type": "code",
      "source": [
        "arquivo = open('dom_casmurro_cap_1.txt', 'r', encoding='utf-8')\n",
        "for linha in arquivo:\n",
        "  print(linha, end='')\n",
        "arquivo.close()"
      ],
      "metadata": {
        "id": "Hnym6id2mVZI"
      },
      "execution_count": null,
      "outputs": []
    },
    {
      "cell_type": "code",
      "source": [
        "with open('dom_casmurro_cap_1.txt', 'r', encoding='utf-8') as arquivo:\n",
        "  texto = arquivo.read()\n",
        "  print(texto)"
      ],
      "metadata": {
        "id": "QXjvzibjmYmw"
      },
      "execution_count": null,
      "outputs": []
    },
    {
      "cell_type": "markdown",
      "source": [
        "##Escrita"
      ],
      "metadata": {
        "id": "HQi-XuqknXRn"
      }
    },
    {
      "cell_type": "code",
      "source": [
        "with open('arquivo_teste.txt', 'a', encoding='utf-8') as arquivo:\n",
        "  arquivo.write('Essa é uma linha que eu escrevi usando Python\\n')"
      ],
      "metadata": {
        "id": "yrcasDCUnaZ_"
      },
      "execution_count": 17,
      "outputs": []
    },
    {
      "cell_type": "code",
      "source": [
        "with open('arquivo_teste.txt', 'r', encoding='utf-8') as arquivo:\n",
        "  print(arquivo.read(), end='')"
      ],
      "metadata": {
        "colab": {
          "base_uri": "https://localhost:8080/"
        },
        "id": "6FYX9SXmnqtc",
        "outputId": "b91dfc87-f817-4df3-86c5-19ebee994c92"
      },
      "execution_count": 18,
      "outputs": [
        {
          "output_type": "stream",
          "name": "stdout",
          "text": [
            "Essa é uma linha que eu escrevi usando Python\n"
          ]
        }
      ]
    },
    {
      "cell_type": "code",
      "source": [],
      "metadata": {
        "id": "-xFq1MjxnrGx"
      },
      "execution_count": null,
      "outputs": []
    }
  ]
}